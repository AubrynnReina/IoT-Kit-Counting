{
 "cells": [
  {
   "cell_type": "code",
   "execution_count": 1,
   "id": "acecd7bd",
   "metadata": {},
   "outputs": [],
   "source": [
    "import pandas as pd\n",
    "import numpy as np\n",
    "import matplotlib.pyplot as plt"
   ]
  },
  {
   "cell_type": "code",
   "execution_count": 2,
   "id": "fa53f586",
   "metadata": {},
   "outputs": [],
   "source": [
    "result_df = pd.read_csv('img_size.csv')\n",
    "classes = result_df['class'].unique()\n",
    "img_sizes = list(map(str, result_df['size'].unique()))"
   ]
  },
  {
   "cell_type": "code",
   "execution_count": 3,
   "id": "27ddc57b",
   "metadata": {},
   "outputs": [],
   "source": [
    "# Scoring formular\n",
    "amh_weights = np.array([1, -1, -1]).reshape((3, 1))\n",
    "result_df['score'] = np.dot(result_df.iloc[:, 2:], amh_weights)"
   ]
  },
  {
   "cell_type": "code",
   "execution_count": 4,
   "id": "70420678",
   "metadata": {},
   "outputs": [],
   "source": [
    "# Get scores for each class per image size (7 sizes)\n",
    "class_score_per_img_size = {}\n",
    "for i in range(len(classes)):\n",
    "    score_list = []\n",
    "    for j in range(7):\n",
    "        score_list.append(result_df['score'].iloc[i + j * 22])\n",
    "    class_score_per_img_size[classes[i]] = score_list"
   ]
  },
  {
   "cell_type": "code",
   "execution_count": 32,
   "id": "587309c9",
   "metadata": {},
   "outputs": [],
   "source": [
    "iterator = 0"
   ]
  },
  {
   "cell_type": "code",
   "execution_count": 35,
   "id": "6b426abb",
   "metadata": {},
   "outputs": [
    {
     "data": {
      "image/png": "[encoded data removed]",
      "text/plain": [
       "<Figure size 640x480 with 1 Axes>"
      ]
     },
     "metadata": {},
     "output_type": "display_data"
    }
   ],
   "source": [
    "# Plot the scores\n",
    "%matplotlib inline\n",
    "value_bars = plt.bar(img_sizes, height=class_score_per_img_size[classes[iterator]])\n",
    "title = 'Scoring for ' + classes[iterator]\n",
    "plt.title(title)\n",
    "plt.bar_label(value_bars, fmt='%.2f')\n",
    "plt.show()\n",
    "\n",
    "iterator +=1"
   ]
  },
  {
   "cell_type": "code",
   "execution_count": 7,
   "id": "1f6ccca2",
   "metadata": {},
   "outputs": [
    {
     "name": "stdout",
     "output_type": "stream",
     "text": [
      "[13.6, 9.76, 6.8100000000000005, 2.3199999999999994, -2.5, -7.29, -8.37]\n"
     ]
    }
   ],
   "source": [
    "# Calculate scoring for each image sizes\n",
    "img_size_scores = []\n",
    "for i in range(len(img_sizes)):\n",
    "    total_score = 0\n",
    "    for j in range(len(classes)):\n",
    "        total_score += class_score_per_img_size.get(classes[j])[i]\n",
    "    \n",
    "    img_size_scores.append(total_score)\n",
    "\n",
    "print(img_size_scores)"
   ]
  },
  {
   "cell_type": "code",
   "execution_count": 8,
   "id": "9c3b80b9",
   "metadata": {},
   "outputs": [
    {
     "data": {
      "text/plain": [
       "array([0, 1, 2, 3, 4], dtype=int64)"
      ]
     },
     "execution_count": 8,
     "metadata": {},
     "output_type": "execute_result"
    }
   ],
   "source": [
    "# Find the best results among the image sizes.\n",
    "index_list = []\n",
    "for i in range(len(classes)):\n",
    "    index = np.argmax(class_score_per_img_size.get(classes[i]))\n",
    "    index_list.append(index)\n",
    "    \n",
    "unique_img_size_index = np.unique(index_list)\n",
    "unique_img_size_index"
   ]
  },
  {
   "cell_type": "code",
   "execution_count": 9,
   "id": "55172248",
   "metadata": {},
   "outputs": [
    {
     "data": {
      "text/plain": [
       "{(0, 1, 2): 14.110000000000001,\n",
       " (0, 1, 3): 13.93,\n",
       " (0, 1, 4): 13.91,\n",
       " (0, 2, 3): 14.16,\n",
       " (0, 2, 4): 14.13,\n",
       " (0, 3, 4): 13.819999999999999,\n",
       " (1, 2, 3): 10.479999999999999,\n",
       " (1, 2, 4): 10.4,\n",
       " (1, 3, 4): 10.199999999999998,\n",
       " (2, 3, 4): 7.120000000000001}"
      ]
     },
     "execution_count": 9,
     "metadata": {},
     "output_type": "execute_result"
    }
   ],
   "source": [
    "# Generate all possilbe 3-element set from the image size index list above.\n",
    "from itertools import combinations\n",
    "\n",
    "index_subset = combinations(unique_img_size_index, 3)\n",
    "score_list = {}\n",
    "\n",
    "# Find the best scoring for each set of image sizes.\n",
    "for i in index_subset:\n",
    "    total_score = 0\n",
    "    for j in range(len(classes)):\n",
    "        max_score = -1000\n",
    "        for k in range(3):\n",
    "            if class_score_per_img_size.get(classes[j])[i[k]] > max_score:\n",
    "                max_score = class_score_per_img_size.get(classes[j])[i[k]]\n",
    "        total_score += max_score\n",
    "    score_list[i] = total_score\n",
    "\n",
    "score_list"
   ]
  },
  {
   "cell_type": "code",
   "execution_count": 10,
   "id": "1ebe9dcc",
   "metadata": {},
   "outputs": [
    {
     "name": "stdout",
     "output_type": "stream",
     "text": [
      "{'Breadboard': '640', 'Button': '640', 'Buzzer': '1536', 'Infared_Sensor': '640', 'Keypad': '640', 'LCD': '640', 'LED': '1536', 'LED_Matrix': '640', 'Number_LED': '640', 'Photoresistor': '640', 'Potentiometer': '640', 'Remote': '640', 'Resistor': '2560', 'Rheostat': '640', 'Servo_Engine': '1536', 'Thermistor': '1536', 'Tool_Box': '640', 'Tool_Box_Tray': '640', 'UNO_R3': '640', 'USB_Cable': '640', 'Ultrasonic_Sensor': '640', 'Wire': '640'}\n"
     ]
    }
   ],
   "source": [
    "# Choose the best image size for each class based on the image size subset and scores.\n",
    "subset = (0, 2, 4)\n",
    "chosen_img_size = {}\n",
    "for i in range(len(classes)):\n",
    "    list_of_scores = [class_score_per_img_size.get(classes[i])[j] for j in subset]\n",
    "    index_from_argmax = np.argmax(list_of_scores)\n",
    "    chosen_img_size[classes[i]] = img_sizes[subset[index_from_argmax]]\n",
    "    \n",
    "print(chosen_img_size)"
   ]
  },
  {
   "cell_type": "code",
   "execution_count": 137,
   "id": "bff57aab",
   "metadata": {},
   "outputs": [],
   "source": [
    "chosen_img_size_meta = [img_sizes[i] for i in subset]\n",
    "chosen_img_size_df = pd.DataFrame.from_dict(chosen_img_size, orient='index')\n",
    "chosen_img_size_df.to_csv('Assigned_to_{0}.csv'.format(chosen_img_size_meta))"
   ]
  }
 ],
 "metadata": {
  "kernelspec": {
   "display_name": "Python 3 (ipykernel)",
   "language": "python",
   "name": "python3"
  },
  "language_info": {
   "codemirror_mode": {
    "name": "ipython",
    "version": 3
   },
   "file_extension": ".py",
   "mimetype": "text/x-python",
   "name": "python",
   "nbconvert_exporter": "python",
   "pygments_lexer": "ipython3",
   "version": "3.10.0"
  }
 },
 "nbformat": 4,
 "nbformat_minor": 5
}
