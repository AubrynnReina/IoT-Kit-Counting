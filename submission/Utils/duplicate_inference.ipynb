{
  "nbformat": 4,
  "nbformat_minor": 0,
  "metadata": {
    "colab": {
      "provenance": [],
      "gpuType": "T4"
    },
    "kernelspec": {
      "name": "python3",
      "display_name": "Python 3"
    },
    "language_info": {
      "name": "python"
    },
    "accelerator": "GPU"
  },
  "cells": [
    {
      "cell_type": "code",
      "source": [
        "from google.colab import drive\n",
        "drive.mount('/content/drive', force_remount=True)\n",
        "\n",
        "%cd /content/drive/MyDrive/YOLO_Testing"
      ],
      "metadata": {
        "colab": {
          "base_uri": "https://localhost:8080/"
        },
        "id": "4ulTNUh0AEIF",
        "outputId": "d700377e-2c80-46a4-f819-40398192a126"
      },
      "execution_count": 1,
      "outputs": [
        {
          "output_type": "stream",
          "name": "stdout",
          "text": [
            "Mounted at /content/drive\n",
            "/content/drive/MyDrive/YOLO_Testing\n"
          ]
        }
      ]
    },
    {
      "cell_type": "code",
      "source": [
        "import torch\n",
        "from IPython.display import Image, clear_output  # to display images\n",
        "\n",
        "print(f\"Setup complete. Using torch {torch.__version__} ({torch.cuda.get_device_properties(0).name if torch.cuda.is_available() else 'CPU'})\")"
      ],
      "metadata": {
        "colab": {
          "base_uri": "https://localhost:8080/"
        },
        "id": "e4cZX8R__MsZ",
        "outputId": "f0a44354-bf87-4d46-c44d-50146d2e5293"
      },
      "execution_count": 2,
      "outputs": [
        {
          "output_type": "stream",
          "name": "stdout",
          "text": [
            "Setup complete. Using torch 2.1.0+cu118 (Tesla T4)\n"
          ]
        }
      ]
    },
    {
      "cell_type": "code",
      "source": [
        "%cd /content/drive/MyDrive/YOLO_Testing/yolov5"
      ],
      "metadata": {
        "colab": {
          "base_uri": "https://localhost:8080/"
        },
        "id": "31F55IJSOtRv",
        "outputId": "046c21ce-acbe-40b2-f86a-2bd954adc53d"
      },
      "execution_count": 3,
      "outputs": [
        {
          "output_type": "stream",
          "name": "stdout",
          "text": [
            "/content/drive/MyDrive/YOLO_Testing/yolov5\n"
          ]
        }
      ]
    },
    {
      "cell_type": "code",
      "source": [
        "def read_label_file(file):\n",
        "  label = []\n",
        "  f = open(file, \"r\")\n",
        "  lines = f.readlines()\n",
        "  for line in lines:\n",
        "    elements = list(map(float, line.split(' ')))\n",
        "    label.append(elements)\n",
        "  return label\n",
        "\n",
        "\n",
        "def get_list_labels(results, sizes):\n",
        "  import pandas as pd\n",
        "\n",
        "  pandas_results = []\n",
        "  for i in range(len(results)):\n",
        "    pandas_result = results[i].pandas().xyxy[0]\n",
        "    # Normalize xyxy\n",
        "    pandas_result.iloc[:, 0] = pandas_result.iloc[:, 0] / sizes[0]\n",
        "    pandas_result.iloc[:, 2] = pandas_result.iloc[:, 2] / sizes[0]\n",
        "    pandas_result.iloc[:, 1] = pandas_result.iloc[:, 1] / sizes[1]\n",
        "    pandas_result.iloc[:, 3] = pandas_result.iloc[:, 3] / sizes[1]\n",
        "    pandas_results.append(pandas_result)\n",
        "\n",
        "  all_results = pd.concat(pandas_results, axis=0)\n",
        "  new_cols = ['class', 'xmin', 'ymin', 'xmax', 'ymax', 'confidence']\n",
        "  all_results = all_results[new_cols]\n",
        "  list_results = all_results.values.tolist()\n",
        "\n",
        "  return list_results\n",
        "\n",
        "\n",
        "def get_labels_after_agnostic_nms(labels, iou_threshold=0.45):\n",
        "  from torchvision.ops import nms\n",
        "  torch_label = torch.tensor(labels)\n",
        "  pred_boxes, pred_scores = torch_label[:, 1:5], torch_label[:, 5]\n",
        "  boxes_index = nms(boxes=pred_boxes, scores=pred_scores, iou_threshold=iou_threshold)\n",
        "\n",
        "  list_of_indices = boxes_index.tolist()\n",
        "\n",
        "  # Change format from xyxy_norm to xywh_norm\n",
        "  for i, label in enumerate(labels):\n",
        "    label[1] = (label[1] + label[3]) / 2\n",
        "    label[2] = (label[2] + label[4]) / 2\n",
        "    label[3] = (label[3] - label[1]) * 2\n",
        "    label[4] = (label[4] - label[2]) * 2\n",
        "\n",
        "  return [labels[i] for i in list_of_indices]\n",
        "\n",
        "\n",
        "def write_list_to_file(lst, file_name, output_folder):\n",
        "  with open(output_folder + file_name, 'w') as fp:\n",
        "    for label in lst:\n",
        "      for element in label:\n",
        "        fp.write(str(element))\n",
        "        fp.write(' ')\n",
        "      fp.write('\\n')\n",
        "  fp.close()\n",
        "  return output_folder + file_name\n",
        "\n",
        "\n",
        "def save_image_with_prediction(label_path, img_path, save_dir):\n",
        "  from utils import general_capstone\n",
        "  import cv2\n",
        "  from pathlib import Path\n",
        "\n",
        "  with open(label_path, 'r') as f:\n",
        "    bboxes = f.read().split('\\n')\n",
        "    print('Labels loaded from ', label_path)\n",
        "\n",
        "  image = cv2.imread(img_path)\n",
        "\n",
        "  img_to_save = general_capstone.make_image_wbbox(image, bboxes)\n",
        "\n",
        "  save_path = save_dir+'/'+ Path(img_path).stem + '.jpg'\n",
        "  cv2.imwrite(save_path, img_to_save)\n",
        "  print(f'Image saved to {save_path}')\n",
        "\n",
        "\n",
        "def recognize_IoT_objects(model, image_path):\n",
        "\n",
        "  from PIL import Image\n",
        "  # Image sizes configuration\n",
        "  SIZE_1 = 640\n",
        "  SIZE_2 = 1536\n",
        "  IOU_THRESHOLD = 0.45\n",
        "  OUTPUT_FOLDER = '/content/drive/MyDrive/YOLO_Testing/yolov5/runs/detect/our_exp/'\n",
        "  LABEL_FILE_NAME = 'nms_label.txt'\n",
        "\n",
        "  # Get predictions\n",
        "  image = Image.open(image_path)\n",
        "  img_size = image.size\n",
        "  result_1 = model(image, size=SIZE_1)\n",
        "  result_2 = model(image, size=SIZE_2)\n",
        "  timestamp_2 = datetime.now()\n",
        "\n",
        "  # Handle predictions into one single list\n",
        "  list_results = get_list_labels([result_1, result_2], img_size)\n",
        "\n",
        "  # Get agnostic nms result and write the label file\n",
        "  results_after_nms = get_labels_after_agnostic_nms(list_results, IOU_THRESHOLD)\n",
        "  nms_label_path = write_list_to_file(results_after_nms, LABEL_FILE_NAME, OUTPUT_FOLDER)\n",
        "\n",
        "  # Save image with prediction\n",
        "  save_image_with_prediction(nms_label_path, image_path, OUTPUT_FOLDER)\n",
        "  return timestamp_2, datetime.now()"
      ],
      "metadata": {
        "id": "vSxIrPyiTbog"
      },
      "execution_count": null,
      "outputs": []
    },
    {
      "cell_type": "code",
      "source": [
        "from datetime import datetime\n",
        "image_path = '/content/drive/MyDrive/YOLO_Testing/test_nov15_existediamges/1698811617178.jpg'\n",
        "timestamp_0 = datetime.now()\n",
        "model = torch.hub.load('.', 'custom', path='/content/drive/MyDrive/YOLO_Testing/yolov5/runs/train/exp/weights/best.pt', source='local')\n",
        "timestamp_1 = datetime.now()"
      ],
      "metadata": {
        "colab": {
          "base_uri": "https://localhost:8080/"
        },
        "id": "UelfxCxU4eh5",
        "outputId": "a3e091b6-39a8-45d1-9843-8250ffea573a"
      },
      "execution_count": null,
      "outputs": [
        {
          "output_type": "stream",
          "name": "stderr",
          "text": [
            "YOLOv5 🚀 v7.0-211-g94e943e Python-3.10.12 torch-2.1.0+cu118 CUDA:0 (Tesla T4, 15102MiB)\n",
            "\n",
            "Fusing layers... \n",
            "Model summary: 416 layers, 140172724 parameters, 0 gradients, 208.3 GFLOPs\n",
            "Adding AutoShape... \n"
          ]
        }
      ]
    },
    {
      "cell_type": "code",
      "source": [
        "timestamp_2, timestamp_3 = recognize_IoT_objects(model, image_path)\n",
        "timelen_load = (timestamp_1 - timestamp_0).total_seconds() * 1000\n",
        "timelen_infer = (timestamp_2 - timestamp_1).total_seconds() * 1000\n",
        "timelen_merge = (timestamp_3 - timestamp_2).total_seconds() * 1000\n",
        "timelen_total = (timestamp_3 - timestamp_0).total_seconds() * 1000\n",
        "print(f'Speed: {timelen_load:.1f}ms load-model, {timelen_infer:.1f}ms infer, {timelen_merge:.1f}ms merge, TOTAL: {timelen_total:.1f}ms')"
      ],
      "metadata": {
        "colab": {
          "base_uri": "https://localhost:8080/"
        },
        "id": "o0Zj9X4oSSMO",
        "outputId": "9ba7165c-f75b-426b-84f6-01fed0020e76"
      },
      "execution_count": null,
      "outputs": [
        {
          "output_type": "stream",
          "name": "stdout",
          "text": [
            "Labels loaded from  /content/drive/MyDrive/YOLO_Testing/yolov5/runs/detect/our_exp/nms_label.txt\n",
            "Shape of the output image is [w, h]:  4000 2250\n",
            "Image saved to /content/drive/MyDrive/YOLO_Testing/yolov5/runs/detect/our_exp//1698811617178.jpg\n",
            "Speed: 3067.8ms load-model, 483.8ms infer, 747.2ms merge, TOTAL: 4298.8ms\n"
          ]
        }
      ]
    },
    {
      "cell_type": "code",
      "source": [
        "!python train.py --img 1280 --batch 16 --epochs 300 --data /content/drive/MyDrive/YOLO_Testing/Our_IoT_Aug/data.yaml\\\n",
        "                          --weights yolov5m6.pt --freeze 10 --patience 20\\\n",
        "                          --hyp hyp.scratch-high.yaml"
      ],
      "metadata": {
        "id": "OX1pLPIcE1Zt",
        "colab": {
          "base_uri": "https://localhost:8080/"
        },
        "outputId": "f196628d-1d3e-4734-8832-1efe8fc02467"
      },
      "execution_count": null,
      "outputs": [
        {
          "output_type": "stream",
          "name": "stdout",
          "text": [
            "Traceback (most recent call last):\n",
            "  File \"/content/drive/MyDrive/YOLO_Testing/yolov5/train.py\", line 61, in <module>\n",
            "    from utils.loggers import Loggers\n",
            "  File \"/content/drive/MyDrive/YOLO_Testing/yolov5/utils/loggers/__init__.py\", line 14, in <module>\n",
            "    from utils.loggers.clearml.clearml_utils import ClearmlLogger\n",
            "  File \"<frozen importlib._bootstrap>\", line 1027, in _find_and_load\n",
            "  File \"<frozen importlib._bootstrap>\", line 1006, in _find_and_load_unlocked\n",
            "  File \"<frozen importlib._bootstrap>\", line 688, in _load_unlocked\n",
            "  File \"<frozen importlib._bootstrap_external>\", line 879, in exec_module\n",
            "  File \"<frozen importlib._bootstrap_external>\", line 975, in get_code\n",
            "  File \"<frozen importlib._bootstrap_external>\", line 1074, in get_data\n",
            "KeyboardInterrupt\n"
          ]
        }
      ]
    },
    {
      "cell_type": "code",
      "source": [],
      "metadata": {
        "id": "CgHWvpqcVIGW"
      },
      "execution_count": null,
      "outputs": []
    }
  ]
}