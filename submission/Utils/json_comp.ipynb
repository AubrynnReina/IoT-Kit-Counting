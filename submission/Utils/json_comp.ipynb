{
 "cells": [
  {
   "cell_type": "code",
   "execution_count": 1,
   "metadata": {},
   "outputs": [],
   "source": [
    "import json\n",
    "import os"
   ]
  },
  {
   "cell_type": "code",
   "execution_count": 2,
   "metadata": {},
   "outputs": [],
   "source": [
    "res = []\n",
    "\n",
    "def compare(model_name: str) -> None:\n",
    "    global res \n",
    "    res.append(model_name)\n",
    "    count = 0\n",
    "    f_labels = open(f\"{model_name}_labels.json\")\n",
    "    f_preds = open(f\"{model_name}_preds.json\")  \n",
    "    labels = json.load(f_labels)\n",
    "    preds = json.load(f_preds) \n",
    "    for file in os.listdir('test/images/'):\n",
    "        if labels[file.rstrip(\".jpg\")] != preds[file.rstrip(\".jpg\")]:\n",
    "            res.append(f\"{labels[file.rstrip('.jpg')]} ; {preds[file.rstrip('.jpg')]} ; {len(labels[file.rstrip('.jpg')]) - len(preds[file.rstrip('.jpg')])}\")\n",
    "            count += 1\n",
    "    res.append(f\"Miscounting cases: {str(count)}\")"
   ]
  },
  {
   "cell_type": "code",
   "execution_count": 3,
   "metadata": {},
   "outputs": [],
   "source": [
    "model_names = [\"YOLOv5x6\",\"YOLOv5x\", \"YOLOv5m6\"]\n",
    "for name in model_names:\n",
    "    compare(name) "
   ]
  },
  {
   "cell_type": "code",
   "execution_count": 4,
   "metadata": {},
   "outputs": [],
   "source": [
    "with open(\"result.txt\", \"w\") as outfile:\n",
    "    outfile.write(\"\\n\".join(res))"
   ]
  }
 ],
 "metadata": {
  "kernelspec": {
   "display_name": "capstone",
   "language": "python",
   "name": "python3"
  },
  "language_info": {
   "codemirror_mode": {
    "name": "ipython",
    "version": 3
   },
   "file_extension": ".py",
   "mimetype": "text/x-python",
   "name": "python",
   "nbconvert_exporter": "python",
   "pygments_lexer": "ipython3",
   "version": "3.11.4"
  },
  "orig_nbformat": 4
 },
 "nbformat": 4,
 "nbformat_minor": 2
}
