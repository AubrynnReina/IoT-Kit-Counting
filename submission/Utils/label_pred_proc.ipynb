{
 "cells": [
  {
   "cell_type": "code",
   "execution_count": 7,
   "metadata": {},
   "outputs": [],
   "source": [
    "import torch\n",
    "from ultralytics import YOLO\n",
    "import os\n",
    "from tqdm import tqdm\n",
    "import json"
   ]
  },
  {
   "cell_type": "code",
   "execution_count": 8,
   "metadata": {},
   "outputs": [],
   "source": [
    "img_path = \"test/images/\"\n",
    "label_path = \"test/labels/\""
   ]
  },
  {
   "cell_type": "code",
   "execution_count": 9,
   "metadata": {},
   "outputs": [],
   "source": [
    "def make_preds(model, path) -> dict:\n",
    "    res_list = []\n",
    "    results = model(path)\n",
    "    for result in results.xyxy[0]:\n",
    "        res_list.append(int(result[-1]))\n",
    "    return res_list"
   ]
  },
  {
   "cell_type": "code",
   "execution_count": 10,
   "metadata": {},
   "outputs": [],
   "source": [
    "def list_proc(lst: list):\n",
    "    tmp = []\n",
    "    for i in lst:\n",
    "        tmp.append(int(i[0]))\n",
    "    return tmp"
   ]
  },
  {
   "cell_type": "code",
   "execution_count": 11,
   "metadata": {},
   "outputs": [],
   "source": [
    "def process_main(model_name, img_path, label_path):\n",
    "    model = torch.hub.load('ultralytics/yolov5', 'custom', path=f\"{model_name}.pt\", force_reload=True)\n",
    "    final_preds = {}\n",
    "    final_labels = {}\n",
    "    for img in tqdm(os.listdir(img_path)):\n",
    "        final_preds[img.rstrip(\".jpg\")] = make_preds(model, img_path+img)\n",
    "    with open(f\"{model_name}_preds.json\", \"w\") as outfile:\n",
    "        json.dump(final_preds, outfile)\n",
    "    for label in tqdm(os.listdir(label_path)):\n",
    "        with open(label_path + label, \"r\") as anno:\n",
    "            final_labels[label.rstrip(\".txt\")] = list_proc(anno.readlines())\n",
    "    with open(f\"{model_name}_labels.json\", \"w\") as outfile:\n",
    "        json.dump(final_labels, outfile)"
   ]
  },
  {
   "cell_type": "code",
   "execution_count": 12,
   "metadata": {},
   "outputs": [
    {
     "name": "stderr",
     "output_type": "stream",
     "text": [
      "Downloading: \"https://github.com/ultralytics/yolov5/zipball/master\" to C:\\Users\\MY-PC/.cache\\torch\\hub\\master.zip\n",
      "\u001b[31m\u001b[1mrequirements:\u001b[0m Ultralytics requirement ['gitpython>=3.1.30'] not found, attempting AutoUpdate...\n",
      "Requirement already satisfied: gitpython>=3.1.30 in c:\\users\\my-pc\\anaconda3\\lib\\site-packages (3.1.30)\n",
      "Requirement already satisfied: gitdb<5,>=4.0.1 in c:\\users\\my-pc\\anaconda3\\lib\\site-packages (from gitpython>=3.1.30) (4.0.10)\n",
      "Requirement already satisfied: smmap<6,>=3.0.1 in c:\\users\\my-pc\\anaconda3\\lib\\site-packages (from gitdb<5,>=4.0.1->gitpython>=3.1.30) (5.0.0)\n",
      "\n",
      "\u001b[31m\u001b[1mrequirements:\u001b[0m AutoUpdate success  2.5s, installed 1 package: ['gitpython>=3.1.30']\n",
      "\u001b[31m\u001b[1mrequirements:\u001b[0m  \u001b[1mRestart runtime or rerun command for updates to take effect\u001b[0m\n",
      "\n",
      "YOLOv5  2023-9-9 Python-3.11.4 torch-2.0.0+cu117 CUDA:0 (NVIDIA GeForce RTX 3070 Laptop GPU, 8192MiB)\n",
      "\n",
      "Fusing layers... \n",
      "Model summary: 416 layers, 140028544 parameters, 0 gradients\n",
      "Adding AutoShape... \n",
      "100%|██████████| 181/181 [00:08<00:00, 20.83it/s]\n",
      "100%|██████████| 181/181 [00:00<00:00, 10445.94it/s]\n",
      "Downloading: \"https://github.com/ultralytics/yolov5/zipball/master\" to C:\\Users\\MY-PC/.cache\\torch\\hub\\master.zip\n",
      "\u001b[31m\u001b[1mrequirements:\u001b[0m Ultralytics requirement ['gitpython>=3.1.30'] not found, attempting AutoUpdate...\n",
      "Requirement already satisfied: gitpython>=3.1.30 in c:\\users\\my-pc\\anaconda3\\lib\\site-packages (3.1.30)\n",
      "Requirement already satisfied: gitdb<5,>=4.0.1 in c:\\users\\my-pc\\anaconda3\\lib\\site-packages (from gitpython>=3.1.30) (4.0.10)\n",
      "Requirement already satisfied: smmap<6,>=3.0.1 in c:\\users\\my-pc\\anaconda3\\lib\\site-packages (from gitdb<5,>=4.0.1->gitpython>=3.1.30) (5.0.0)\n",
      "\n",
      "\u001b[31m\u001b[1mrequirements:\u001b[0m AutoUpdate success  2.5s, installed 1 package: ['gitpython>=3.1.30']\n",
      "\u001b[31m\u001b[1mrequirements:\u001b[0m  \u001b[1mRestart runtime or rerun command for updates to take effect\u001b[0m\n",
      "\n",
      "YOLOv5  2023-9-9 Python-3.11.4 torch-2.0.0+cu117 CUDA:0 (NVIDIA GeForce RTX 3070 Laptop GPU, 8192MiB)\n",
      "\n",
      "Fusing layers... \n",
      "Model summary: 322 layers, 86213788 parameters, 0 gradients\n",
      "Adding AutoShape... \n",
      "100%|██████████| 181/181 [00:07<00:00, 25.74it/s]\n",
      "100%|██████████| 181/181 [00:00<00:00, 16504.03it/s]\n",
      "Downloading: \"https://github.com/ultralytics/yolov5/zipball/master\" to C:\\Users\\MY-PC/.cache\\torch\\hub\\master.zip\n",
      "\u001b[31m\u001b[1mrequirements:\u001b[0m Ultralytics requirement ['gitpython>=3.1.30'] not found, attempting AutoUpdate...\n",
      "Requirement already satisfied: gitpython>=3.1.30 in c:\\users\\my-pc\\anaconda3\\lib\\site-packages (3.1.30)\n",
      "Requirement already satisfied: gitdb<5,>=4.0.1 in c:\\users\\my-pc\\anaconda3\\lib\\site-packages (from gitpython>=3.1.30) (4.0.10)\n",
      "Requirement already satisfied: smmap<6,>=3.0.1 in c:\\users\\my-pc\\anaconda3\\lib\\site-packages (from gitdb<5,>=4.0.1->gitpython>=3.1.30) (5.0.0)\n",
      "\n",
      "\u001b[31m\u001b[1mrequirements:\u001b[0m AutoUpdate success  2.4s, installed 1 package: ['gitpython>=3.1.30']\n",
      "\u001b[31m\u001b[1mrequirements:\u001b[0m  \u001b[1mRestart runtime or rerun command for updates to take effect\u001b[0m\n",
      "\n",
      "YOLOv5  2023-9-9 Python-3.11.4 torch-2.0.0+cu117 CUDA:0 (NVIDIA GeForce RTX 3070 Laptop GPU, 8192MiB)\n",
      "\n",
      "Fusing layers... \n",
      "Model summary: 276 layers, 35283552 parameters, 0 gradients\n",
      "Adding AutoShape... \n",
      "100%|██████████| 181/181 [00:03<00:00, 56.30it/s]\n",
      "100%|██████████| 181/181 [00:00<00:00, 16512.65it/s]\n"
     ]
    }
   ],
   "source": [
    "model_names = [\"YOLOv5x6\",\"YOLOv5x\", \"YOLOv5m6\"]\n",
    "for name in model_names:\n",
    "    process_main(name, img_path, label_path)"
   ]
  }
 ],
 "metadata": {
  "kernelspec": {
   "display_name": "capstone",
   "language": "python",
   "name": "python3"
  },
  "language_info": {
   "codemirror_mode": {
    "name": "ipython",
    "version": 3
   },
   "file_extension": ".py",
   "mimetype": "text/x-python",
   "name": "python",
   "nbconvert_exporter": "python",
   "pygments_lexer": "ipython3",
   "version": "3.11.4"
  },
  "orig_nbformat": 4
 },
 "nbformat": 4,
 "nbformat_minor": 2
}
